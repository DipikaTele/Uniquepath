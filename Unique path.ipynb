{
 "cells": [
  {
   "cell_type": "code",
   "execution_count": 27,
   "metadata": {},
   "outputs": [],
   "source": [
    "class Solution:\n",
    "    def Uniquepath(self,m,n):\n",
    "        #row ,column = m,n\n",
    "        dp=[[-1 for i in range(n)] for i in range(m)]\n",
    "        dp[m-2][n-1]=1\n",
    "        for i in range(n):\n",
    "            dp[m-1][i]=1\n",
    "        for j in range(m):\n",
    "            dp[j][n-1]=1\n",
    "        for i in range(m-2,-1,-1):\n",
    "            for j in range(n-2,-1,-1):\n",
    "                dp[i][j]=dp[i+1][j]+dp[i][j+1]\n",
    "                print(dp[i],dp[j])\n",
    "        return dp[0][0]"
   ]
  },
  {
   "cell_type": "code",
   "execution_count": 28,
   "metadata": {},
   "outputs": [],
   "source": [
    "S = Solution()"
   ]
  },
  {
   "cell_type": "code",
   "execution_count": 29,
   "metadata": {},
   "outputs": [
    {
     "name": "stdout",
     "output_type": "stream",
     "text": [
      "[2, 1] [-1, 1]\n",
      "[3, 1] [3, 1]\n"
     ]
    },
    {
     "data": {
      "text/plain": [
       "3"
      ]
     },
     "execution_count": 29,
     "metadata": {},
     "output_type": "execute_result"
    }
   ],
   "source": [
    "S.Uniquepath(3,2)"
   ]
  },
  {
   "cell_type": "code",
   "execution_count": null,
   "metadata": {},
   "outputs": [],
   "source": []
  }
 ],
 "metadata": {
  "kernelspec": {
   "display_name": "Python 3",
   "language": "python",
   "name": "python3"
  },
  "language_info": {
   "codemirror_mode": {
    "name": "ipython",
    "version": 3
   },
   "file_extension": ".py",
   "mimetype": "text/x-python",
   "name": "python",
   "nbconvert_exporter": "python",
   "pygments_lexer": "ipython3",
   "version": "3.7.0"
  }
 },
 "nbformat": 4,
 "nbformat_minor": 2
}
